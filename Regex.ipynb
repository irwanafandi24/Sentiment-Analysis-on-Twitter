{
  "nbformat": 4,
  "nbformat_minor": 0,
  "metadata": {
    "colab": {
      "name": "Regex.ipynb",
      "provenance": [],
      "collapsed_sections": []
    },
    "kernelspec": {
      "name": "python3",
      "display_name": "Python 3"
    }
  },
  "cells": [
    {
      "cell_type": "markdown",
      "metadata": {
        "id": "xFhk9tOkwpGL",
        "colab_type": "text"
      },
      "source": [
        "source : https://www.programiz.com/python-programming/regex"
      ]
    },
    {
      "cell_type": "code",
      "metadata": {
        "id": "scupnlMHryFy",
        "colab_type": "code",
        "colab": {}
      },
      "source": [
        "import re"
      ],
      "execution_count": null,
      "outputs": []
    },
    {
      "cell_type": "code",
      "metadata": {
        "id": "4qXFjlBor2GO",
        "colab_type": "code",
        "colab": {
          "base_uri": "https://localhost:8080/",
          "height": 35
        },
        "outputId": "3c75279e-bae9-4575-f1aa-cf83bcea0af0"
      },
      "source": [
        "# '^@....n$'  start with @, ending with n and must be 5 character. If u delete the $, it means not must be 5 character\n",
        "pattern = '^@....n$'\n",
        "text = '@marina'\n",
        "result = re.match(pattern,text)\n",
        "if result:\n",
        "  print(\"Success\")\n",
        "else:\n",
        "  print(\"Give @ on your string\")"
      ],
      "execution_count": null,
      "outputs": [
        {
          "output_type": "stream",
          "text": [
            "Give @ on your string\n"
          ],
          "name": "stdout"
        }
      ]
    },
    {
      "cell_type": "markdown",
      "metadata": {
        "id": "87Ry_lQrtZ-E",
        "colab_type": "text"
      },
      "source": [
        "Meta character : [ ] . ^ $ + ? { } ( ) \\ |</br>\n",
        "- [...] square bracket, specifies a set of character, ex [0-9] 123456789, [a-c] abc, [a-z] lowercase a till z, [^0-9] non digit nuber (^ mean as not/negation)\n",
        "- . period, match any single character\n",
        "- ^ Caret, a string startwith\n",
        "- S Dollar(S dolar), a string endwith\n",
        "- 'star' matches zero or more occurrences of the pattern left to it, ex ir*n (in {martch}, irwn {not matched}))\n",
        "- '+' matches one or more occurrences of the pattern left to it , ex ir+n (irrrrn {martched}, irwn {not matched}))\n",
        "- ? Question Mark, matches zero or one occurrence of the pattern left to it\n",
        "- { } Braces, Consider this code: {n,m}. This means at least n, and at most m repetitions of the pattern left to it. Ex [0-9]{11,12} all number with 11-12 character.\n",
        "- | alternate, or operation. Ex a|b in kebab {matched}\n",
        "- () is used to group sub-patterns. For example, (a|b|c)xz match any string that matches either a or b or c followed by xz. Ex axz, abcxz\n",
        "- \\ is used to escape various characters including all metacharacters. Ex \\@: matched with string start with @\n"
      ]
    },
    {
      "cell_type": "code",
      "metadata": {
        "id": "lcOl8ndgsFRQ",
        "colab_type": "code",
        "colab": {
          "base_uri": "https://localhost:8080/",
          "height": 35
        },
        "outputId": "75053435-41f9-4e6e-9808-43506a871ec8"
      },
      "source": [
        "ptrn = '\\@'\n",
        "txt1 = \"@irwan_afandi\"\n",
        "re.match(ptrn,txt1)"
      ],
      "execution_count": null,
      "outputs": [
        {
          "output_type": "execute_result",
          "data": {
            "text/plain": [
              "<_sre.SRE_Match object; span=(0, 1), match='@'>"
            ]
          },
          "metadata": {
            "tags": []
          },
          "execution_count": 3
        }
      ]
    },
    {
      "cell_type": "markdown",
      "metadata": {
        "id": "Nph6Xe39AXKE",
        "colab_type": "text"
      },
      "source": [
        "<h3>Special Sequence</h3>\n",
        "<ol>\n",
        "  <li> \\Acharacter, Matches if the specified characters are at the start of a string. Ex: \\Airwan, so the pattern must be start with irwan (irwan is a jobseeker)</li>\n",
        "  <li>\\bcharacter (start) character\\b (end), Matches if the specified characters are at the beginning or end of a word. Ex footbal, a foot, afoo</li>\n",
        "  <li>\\B is the opposite of \\b, Matches if the specified characters are not at the beginning or end of a word. Ex: afoolan</li>\n",
        "  <li>\\d == [0-9], match with decimal digit. Ex 1996, rossi46</li>\n",
        "  <li>\\D == [^0-9], match with non decimal digit. Ex: python, rossi46</li>\n",
        "  <li>\\s , match with a string contains any whitespace character. Equivalent to [ \\t\\n\\r\\f\\v]. Ex: \"Tanijoy Tumbuh Bahagia\" {match 2}, calculate the number of space</li>\n",
        "  <li>\\S, Matches where a string contains any non-whitespace character. Equivalent to [^ \\t\\n\\r\\f\\v]. Ex: \"Tanijoy Tumbuh Bahagia\" {match 3}, calculate the number of words</li>\n",
        "  <li>\\w, Matches any alphanumeric character (digits and alphabets). Equivalent to [a-zA-Z0-9_]</li>\n",
        "  <li>\\W, Matches any non-alphanumeric character. Equivalent to [^a-zA-Z0-9_]</li>\n",
        "  <li>\\Z, Matches if the specified characters are at the end of a string. Ex: Tanijoy\\Z, \"Start up baru Tanijoy\" {match 1}</li>\n",
        "</ol>\n"
      ]
    },
    {
      "cell_type": "markdown",
      "metadata": {
        "id": "HN6ctBAbI6tt",
        "colab_type": "text"
      },
      "source": [
        "<h3>Regex implementation</h3>"
      ]
    },
    {
      "cell_type": "code",
      "metadata": {
        "id": "nnyKRWr2_NBd",
        "colab_type": "code",
        "colab": {
          "base_uri": "https://localhost:8080/",
          "height": 35
        },
        "outputId": "df960e27-6d16-45c9-9754-784055837e71"
      },
      "source": [
        "#findall, return list of strings containts match character with what we find\n",
        "text = \"Irwan was born on Banyuwangi 1996\"\n",
        "pattern = '\\S+[a-z]'\n",
        "re.findall(pattern, text)"
      ],
      "execution_count": null,
      "outputs": [
        {
          "output_type": "execute_result",
          "data": {
            "text/plain": [
              "['Irwan', 'was', 'born', 'on', 'Banyuwangi']"
            ]
          },
          "metadata": {
            "tags": []
          },
          "execution_count": 126
        }
      ]
    },
    {
      "cell_type": "code",
      "metadata": {
        "id": "VEt5K5RVCVBB",
        "colab_type": "code",
        "colab": {
          "base_uri": "https://localhost:8080/",
          "height": 35
        },
        "outputId": "aab8ae70-b844-4bdf-db96-20e2c23dc8ef"
      },
      "source": [
        "#Split, if there is a match pattern, it will be split the string\n",
        "text = \"What date is it?21Juli2020. And you24 now\"\n",
        "pattern = '\\d+'\n",
        "re.split(pattern, text)\n",
        "#add max split, if u want to split the string to x data\n",
        "# re.split(pattern, text,2) ==> ['What date is it?', 'Juli', '. And you24 now']"
      ],
      "execution_count": null,
      "outputs": [
        {
          "output_type": "execute_result",
          "data": {
            "text/plain": [
              "['What date is it?', 'Juli', '. And you', ' now']"
            ]
          },
          "metadata": {
            "tags": []
          },
          "execution_count": 46
        }
      ]
    },
    {
      "cell_type": "code",
      "metadata": {
        "id": "CNuH2lIWOFSn",
        "colab_type": "code",
        "colab": {
          "base_uri": "https://localhost:8080/",
          "height": 35
        },
        "outputId": "9ef01461-ba77-4719-e7d9-3813c1ef9877"
      },
      "source": [
        "#re sub, re.sub(pattern, replace, string)\n",
        "#find the string that matched with pattern and replace it with another string\n",
        "text = 'Hellow Pak ruma@DonalSetiawan bagaimana kabar bapak sekarang? dari @mila'\n",
        "pattern = '\\s\\w*(@\\w+)'\n",
        "#mean space,word,union(@word)\n",
        "re.sub(pattern, \"\", text)\n",
        "#re.subn() same with re.sub() but this is return a tuple of 2 items containing the new string and the number of substitutions made"
      ],
      "execution_count": null,
      "outputs": [
        {
          "output_type": "execute_result",
          "data": {
            "text/plain": [
              "'Hellow Pak bagaimana kabar bapak sekarang? dari'"
            ]
          },
          "metadata": {
            "tags": []
          },
          "execution_count": 127
        }
      ]
    },
    {
      "cell_type": "code",
      "metadata": {
        "id": "Q-h1NIxuRk56",
        "colab_type": "code",
        "colab": {
          "base_uri": "https://localhost:8080/",
          "height": 35
        },
        "outputId": "3a818a48-080e-46df-c888-7b095d7c0851"
      },
      "source": [
        "#re.search(pattern, string), look for the first location where the pattern match with the string\n",
        "text = \"Call him Irwan, A good boy\"\n",
        "pattern = 'go'\n",
        "result = re.search(pattern, text) \n",
        "if result:\n",
        "  print(\"Success\")\n",
        "else:\n",
        "  print(\"Filed \", result)"
      ],
      "execution_count": null,
      "outputs": [
        {
          "output_type": "stream",
          "text": [
            "Success\n"
          ],
          "name": "stdout"
        }
      ]
    },
    {
      "cell_type": "code",
      "metadata": {
        "id": "NQATFOTpt6mu",
        "colab_type": "code",
        "colab": {
          "base_uri": "https://localhost:8080/",
          "height": 35
        },
        "outputId": "e6e8150f-1dcd-4b3a-eb25-c5901e52120d"
      },
      "source": [
        "#group(), return part of string where there is a match\n",
        "text ='351 00 431256 00 012 9'\n",
        "#mean 3 digit number, space, 2 digit number\n",
        "pattern = '(\\d{3}) (\\d{2})'\n",
        "match = re.search(pattern, text)\n",
        "if match:\n",
        "  print(match.group())\n",
        "else:\n",
        "  print(\"Failed\")"
      ],
      "execution_count": null,
      "outputs": [
        {
          "output_type": "stream",
          "text": [
            "351 00\n"
          ],
          "name": "stdout"
        }
      ]
    },
    {
      "cell_type": "code",
      "metadata": {
        "id": "LaHsT_DEv82B",
        "colab_type": "code",
        "colab": {
          "base_uri": "https://localhost:8080/",
          "height": 35
        },
        "outputId": "3125ab25-88d1-46a8-f107-690f6fbf1949"
      },
      "source": [
        "# returns the index of the start of the matched substring\n",
        "match.start()"
      ],
      "execution_count": null,
      "outputs": [
        {
          "output_type": "execute_result",
          "data": {
            "text/plain": [
              "0"
            ]
          },
          "metadata": {
            "tags": []
          },
          "execution_count": 144
        }
      ]
    },
    {
      "cell_type": "code",
      "metadata": {
        "id": "X1iVo-sZwRmX",
        "colab_type": "code",
        "colab": {
          "base_uri": "https://localhost:8080/",
          "height": 35
        },
        "outputId": "d6c16983-509d-4437-a108-f935a9eefaca"
      },
      "source": [
        "# returns the end index of the matched substring\n",
        "match.end()"
      ],
      "execution_count": null,
      "outputs": [
        {
          "output_type": "execute_result",
          "data": {
            "text/plain": [
              "6"
            ]
          },
          "metadata": {
            "tags": []
          },
          "execution_count": 145
        }
      ]
    },
    {
      "cell_type": "code",
      "metadata": {
        "id": "cNm-vfQfxMlp",
        "colab_type": "code",
        "colab": {
          "base_uri": "https://localhost:8080/",
          "height": 35
        },
        "outputId": "fc70e418-3c63-45e2-d181-bc6b33672aa7"
      },
      "source": [
        "# returns a tuple containing start and end index of the matched part.\n",
        "match.span()"
      ],
      "execution_count": null,
      "outputs": [
        {
          "output_type": "execute_result",
          "data": {
            "text/plain": [
              "(0, 6)"
            ]
          },
          "metadata": {
            "tags": []
          },
          "execution_count": 146
        }
      ]
    },
    {
      "cell_type": "code",
      "metadata": {
        "id": "EOTDfiDFwUeK",
        "colab_type": "code",
        "colab": {
          "base_uri": "https://localhost:8080/",
          "height": 35
        },
        "outputId": "6b7961ab-226d-4c84-ed4e-9d9af8edcd64"
      },
      "source": [
        "# When r or R prefix is used before a regular expression, it means raw string. \n",
        "# For example, '\\n' is a new line whereas r'\\n' means two characters: a backslash \\ followed by n\n",
        "string = '\\n and \\r are escape sequences.'\n",
        "\n",
        "result = re.findall(r'[\\n\\r]', string) \n",
        "print(result)"
      ],
      "execution_count": null,
      "outputs": [
        {
          "output_type": "stream",
          "text": [
            "['\\n', '\\r']\n"
          ],
          "name": "stdout"
        }
      ]
    },
    {
      "cell_type": "code",
      "metadata": {
        "id": "QGiyBPdQxxwf",
        "colab_type": "code",
        "colab": {}
      },
      "source": [
        ""
      ],
      "execution_count": null,
      "outputs": []
    }
  ]
}